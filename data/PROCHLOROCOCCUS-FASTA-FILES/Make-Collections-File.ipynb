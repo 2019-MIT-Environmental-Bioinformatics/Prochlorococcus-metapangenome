{
 "cells": [
  {
   "cell_type": "code",
   "execution_count": 1,
   "metadata": {},
   "outputs": [],
   "source": [
    "defline_dict = {} #initiate empty dictionary to store all the deflines \n",
    "with open('report-deflines.tab', 'r') as file: #report-deflines indicates which contig names were given when they were renamed to function with anvi'o\n",
    "    with open('Prochlorococcus-GENOME-COLLECTION.txt', 'w') as new_file:\n",
    "        for line in file:\n",
    "            contig = line.split()[0].strip()#The contig name assigned by anvi'o is the first item in the line \n",
    "            new_file.write(contig + '\\t') #Add the anvi'o contig name (the one in our databases) to the file, followed by a tab\n",
    "            genome = line.split()[1].strip() #Pull out the second item in the line, which contains the genome and contig info from the fasta files we downloaded. \n",
    "            if genome.count('-') > 1 or genome.count('-') == 0: #if the genome and contig names are separated by no dashes or more than one dash\n",
    "                new_file.write(genome.split('_')[0]+'\\n') #extract the string before the first underscore, which is the genome, and write it onto the same line of the file\n",
    "                defline_dict[contig] = genome.split('_')[0] \n",
    "            else:\n",
    "                new_file.write(genome.split('-')[0]+'\\n') #extract the string before the first dash, which is the genome, and write it onto the same line of the file\n",
    "                defline_dict[contig] = genome.split('-')[0]#add this value to the dictionary\n",
    "    new_file.close()\n",
    "file.close()\n",
    "\n",
    "\n",
    "        "
   ]
  },
  {
   "cell_type": "code",
   "execution_count": 2,
   "metadata": {},
   "outputs": [],
   "source": [
    "with open('Prochlorococcus-GENOME-COLLECTION2.txt', 'r') as file1: #this file was generated using the script collection-file.sh\n",
    "    with open('final_Prochlorococcus-GENOME-COLLECTION.txt','w') as file2: \n",
    "        for line in file1:\n",
    "            contig = line.split('_')[0].strip()+'_'+line.split('_')[1].strip() #extract contig and split information from each line\n",
    "            genome = defline_dict[contig] #add to dictionary\n",
    "            file2.write(line.strip() +'\\t'+genome+'\\n') #write the contig, split, and corresponding genome to the new file\n",
    "    file2.close()\n",
    "file1.close()\n"
   ]
  },
  {
   "cell_type": "markdown",
   "metadata": {},
   "source": [
    "# Generating internal genomes file"
   ]
  },
  {
   "cell_type": "code",
   "execution_count": 4,
   "metadata": {},
   "outputs": [],
   "source": [
    "with open('final_Prochlorococcus-GENOME-COLLECTION.txt','r') as file3:\n",
    "    with open('internal-genomes.txt', 'w') as new_file2:\n",
    "        genome_list=[]\n",
    "        for line in file3:\n",
    "            genome = line.split()[1].strip()\n",
    "            genome_list.append(genome)\n",
    "        genomes = set(genome_list)\n",
    "        new_file2.write('name'+'\\t'+'bin_id'+'\\t'+'collection_id'+'\\t'+'profile_db_path'+'\\t'+'contigs_db_path'+'\\n')\n",
    "        for item in genomes:\n",
    "            new_file2.write(item+'\\t'+item+'\\t'+'Genomes'+'\\t'+'/vortexfs1/omics/env-bio/collaboration/Prochlorococcus-metapangenome/databases/Prochlorococcus-MERGED/PROFILE.db'+'\\t'+'/vortexfs1/omics/env-bio/collaboration/Prochlorococcus-metapangenome/databases/Prochlorococcus-CONTIGS.db'+'\\n')\n",
    "    new_file2.close()\n",
    "file3.close()\n"
   ]
  }
 ],
 "metadata": {
  "kernelspec": {
   "display_name": "Python 3",
   "language": "python",
   "name": "python3"
  },
  "language_info": {
   "codemirror_mode": {
    "name": "ipython",
    "version": 3
   },
   "file_extension": ".py",
   "mimetype": "text/x-python",
   "name": "python",
   "nbconvert_exporter": "python",
   "pygments_lexer": "ipython3",
   "version": "3.6.7"
  }
 },
 "nbformat": 4,
 "nbformat_minor": 2
}
