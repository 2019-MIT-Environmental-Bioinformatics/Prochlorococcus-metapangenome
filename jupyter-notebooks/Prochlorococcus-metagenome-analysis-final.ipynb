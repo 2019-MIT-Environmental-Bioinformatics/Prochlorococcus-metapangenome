{
 "cells": [
  {
   "cell_type": "markdown",
   "metadata": {},
   "source": [
    "## Downloading sequence data"
   ]
  },
  {
   "cell_type": "markdown",
   "metadata": {},
   "source": [
    "#### Isolate Genomes and SAGs"
   ]
  },
  {
   "cell_type": "markdown",
   "metadata": {},
   "source": [
    "This is a walkthrough of our workflow and scripts, but we did not perform any analysis or visualization using jupyter notebooks. "
   ]
  },
  {
   "cell_type": "code",
   "execution_count": null,
   "metadata": {},
   "outputs": [],
   "source": [
    "##Downloading data\n",
    "\n",
    "##Current directory: /vortexfs1/omics/env-bio/collaboration/Prochlorococcus-metapangenome/data/\n",
    "\n",
    "!curl -L https://ndownloader.figshare.com/files/9416614 -o PROCHLOROCOCCUS-FASTA-FILES.tar.gz\n",
    "!tar -xzvf PROCHLOROCOCCUS-FASTA-FILES.tar.gz\n",
    "!cat CONTIGS-FOR-ISOLATES.fa CONTIGS-FOR-SAGs.fa > Prochlorococcus-genomes.fa\n",
    "\n",
    "#unzip MARIA SAG files downloaded from NCBI\n",
    "!for fasta in Maria_SAGs/\n",
    "!do\n",
    "!gunzip $fasta\n",
    "!done \n",
    "\n",
    "#merge all genome sequences into single file\n",
    "!cat Maria_SAGs/*.fna Prochlorococcus-genomes.fa >> all-genome-seqs.fa\n",
    "\n",
    "#edit deflines\n",
    "!awk '{ if (substr($1,1,3) == \">CA\") print \">\" substr($10,1,10) substr($10,16,length($10)-1); else print $0}' all-genome-seqs.fa > all-genome-seqs-fixed.fa\n"
   ]
  },
  {
   "cell_type": "code",
   "execution_count": null,
   "metadata": {},
   "outputs": [],
   "source": [
    "##Metagenome quality filtering\n",
    "\n",
    "#Retrieve sample information files \n",
    "wget http://merenlab.org/data/tara-oceans-mags/files/sets.txt\n",
    "wget http://merenlab.org/data/tara-oceans-mags/files/samples.txt\n",
    "\n",
    "#generate config .ini files for Atlantic samples\n",
    "iu-gen-configs Atlantic_samples.txt\n",
    "\n",
    "#quality filter metagenomes (quality-filtering.sh)\n",
    "for sample in `awk '{print $1}' Atlantic_samples.txt`\n",
    "do\n",
    "    if [ \"$sample\" == \"sample\" ]; then continue; fi\n",
    "    iu-filter-quality-minoche $sample.ini --ignore-deflines\n",
    "done"
   ]
  },
  {
   "cell_type": "code",
   "execution_count": null,
   "metadata": {},
   "outputs": [],
   "source": [
    "##Generate anvi'o contigs database\n",
    "\n",
    "#edit deflines\n",
    "anvi-script-reformat-fasta data/PROCHLOROCOCCUS-FASTA-FILES/all-genome-seqs-fixed.fa -o seqs-fixed.fa -l 0 --simplify-names --report-file report-deflines.tab\n",
    "\n",
    "#generate contigs database with HMMs and Blast (all steps in anvi-db-cogs-hmms.sh)\n",
    "#anvio-6.1 conda environment must be activated before running this script\n",
    "#generate a contigs database\n",
    "anvi-gen-contigs-database -f data/PROCHLOROCOCCUS-FASTA-FILES/seqs-fixed.fa -o databases/Prochlorococcus-CONTIGS.db -n \"Prochlorococcus Isolates and SAGs\"\n",
    "\n",
    "#perform HMM search for protein families on the contigs database\n",
    "anvi-run-hmms -c databases/Prochlorococcus-CONTIGS.db --num-threads 20\n",
    "\n",
    "#BLAST search for COGs on the contigs database\n",
    "anvi-run-ncbi-cogs -c databases/Prochlorococcus-CONTIGS.db --num-threads 20\n"
   ]
  },
  {
   "cell_type": "code",
   "execution_count": null,
   "metadata": {},
   "outputs": [],
   "source": [
    "##Generate anvi'o contigs database\n",
    "\n",
    "#Build Bowtie database\n",
    "bowtie2-build data/PROCHLOROCOCCUS-FASTA-FILES/all-genome-seqs-fixed.fa databases/prochlorococcus-bowtie\n",
    "\n",
    "#Map metagenome reads to genomes (bowtie-map.sh)\n",
    "for sample in `awk '{print $1}' data/quality-filtered-fastqs/Atlantic_samples.txt`\n",
    "do\n",
    "    if [ \"$sample\" == \"sample\" ]; then continue; fi\n",
    "    # do the bowtie mapping to get the SAM file:\n",
    "    bowtie2 --threads 20 \\\n",
    "            -x databases/prochlorococcus-bowtie \\\n",
    "            -1 data/quality-filtered-fastqs/\"$sample\"-QUALITY_PASSED_R1.fastq \\\n",
    "            -2 data/quality-filtered-fastqs/\"$sample\"-QUALITY_PASSED_R2.fastq \\\n",
    "            --no-unal \\\n",
    "            -S output/\"$sample\".sam\n",
    "\n",
    "    # covert the resulting SAM file to a BAM file:\n",
    "    samtools view -F 4 -bS output/\"$sample.sam\" > output/\"$sample-RAW.bam\"\n",
    "\n",
    "    # sort and index the BAM file:\n",
    "    samtools sort output/\"$sample\"-RAW.bam -o output/\"$sample\".bam\n",
    "    samtools index output/\"$sample\".bam\n",
    "\n",
    "    # remove temporary files:\n",
    "    rm output/\"$sample.sam\" output/\"$sample\"-RAW.bam\n",
    "done\n",
    "\n",
    "#create anvi'o profiles for each metagenomic sample (anvi-profile.sh)\n",
    "for sample in `awk '{print $1}' data/quality-filtered-fastqs/Atlantic_samples.txt`\n",
    "do\n",
    "    if [ \"$sample\" == \"sample\" ]; then continue; fi\n",
    "\n",
    "    anvi-profile -c databases/Prochlorococcus-CONTIGS.db -i output/\"$sample\".bam -M 100 --skip-SNV-profiling --num-threads 20 -o databases/\"$sample\"\n",
    "done \n",
    "\n",
    "#Merge all profiles into single profile\n",
    "anvi-merge databases/A*/PROFILE.db -o databases/Prochlorococcus-merged -c databases/Prochlorococcus-CONTIGS.db\n"
   ]
  },
  {
   "cell_type": "code",
   "execution_count": null,
   "metadata": {},
   "outputs": [],
   "source": [
    "#Make collection file\n",
    "\n",
    "anvi-import-collection final_Prochlorococcus-GENOME-COLLECTION.txt -c databases/Prochlorococcus-CONTIGS.db -p databases/Prochlorococcus-MERGED/PROFILE.db -C Genomes"
   ]
  },
  {
   "cell_type": "code",
   "execution_count": null,
   "metadata": {},
   "outputs": [],
   "source": [
    "#Pangenome analysis\n",
    "\n",
    "#run pangenome analysis (pangenome.sh)\n",
    "anvi-gen-genomes-storage -i internal-genomes.txt -o ../databases/Prochlorococcus-ISOLATE-PAN-GENOMES.db\n",
    "anvi-pan-genome -g ../databases/Prochlorococcus-ISOLATE-PAN-GENOMES.db --use-ncbi-blast --minbit 0.5 --mcl-inflation 10 --project-name Prochloroccocus-ISOLATE-PAN --num-threads 20\n",
    "\n",
    "#Visualize pangenome (not a figure, just to see):\n",
    "anvi-display-pan -p databases/Prochlorococcus-ISOLATE-PAN/Prochlorococcus-ISOLATE-PAN-PAN.db -g databases/Prochlorococcus-ISOLATE-PAN-GENOMES.db --server-only"
   ]
  },
  {
   "cell_type": "code",
   "execution_count": null,
   "metadata": {},
   "outputs": [],
   "source": [
    "#Generating summary files\n",
    "\n",
    "#Summarize profiling of contigs:\n",
    "anvi-summarize -c databases/Prochlorococcus-CONTIGS.db -p databases/Prochlorococcus-MERGED/PROFILE.db -C Genomes --init-gene-coverages -o output/Prochlorococcus-SUMMARY\n",
    "\n",
    "#Summarize results from pangenome analysis\n",
    "anvi-summarize -p databases/Prochlorococcus-ISOLATE-PAN/Prochlorococcus-ISOLATE-PAN-PAN.db -g databases/Prochlorococcus-ISOLATE-PAN-GENOMES.db -C default -o output/Prochlorococcus-ISOLATE-PAN-SUMMARY"
   ]
  },
  {
   "cell_type": "code",
   "execution_count": null,
   "metadata": {},
   "outputs": [],
   "source": [
    "#Linking pangenome to environment:\n",
    "\n",
    "#Characterize ECGs and EAGs (anvi-meta-pan-genome.sh)\n",
    "anvi-meta-pan-genome -p Prochlorococcus-ISOLATE-PAN/Prochloroccocus-ISOLATE-PAN-PAN.db -g Prochlorococcus-ISOLATE-PAN-  GENOMES.db -i ../data/internal-genomes.txt --fraction-of-median-coverage 0.25 \n",
    "\n",
    "#Create text files to visualize distribution in EQPAC1 and MIT9314:\n",
    "anvi-script-gen-distribution-of-genes-in-a-bin -c Prochlorococcus-CONTIGS.db -p Prochlorococcus-MERGED/PROFILE.db -b MIT9314 -C Genomes --fraction-of-median-coverage 0.25 \n",
    "anvi-script-gen-distribution-of-genes-in-a-bin -c Prochlorococcus-CONTIGS.db -p Prochlorococcus-MERGED/PROFILE.db -b EQPAC1 -C Genomes --fraction-of-median-coverage 0.25 "
   ]
  },
  {
   "cell_type": "code",
   "execution_count": null,
   "metadata": {},
   "outputs": [],
   "source": [
    "#Visualizations:\n",
    "\n",
    "#visualize Figure 2 (must be done after characterizing ECGs and EAGs)\n",
    "anvi-display-pan -p Prochlorococcus-ISOLATE-PAN/Prochloroccocus-ISOLATE-PAN-PAN.db -g Prochlorococcus-ISOLATE-PAN-GENOMES.db --title \"Prochlorococcus Metapangenome” --server-only\n",
    "\n",
    "#visualize Figure 3:\n",
    "#run this on EQPAC1 files and MIT9314 files separately\n",
    "anvi-interactive -p databases/Prochlorococcus-MERGED/PROFILE.db -c databases/Prochlorococcus-CONTIGS.db -C Genomes --gene-mode -b EQPAC1 -d databases/EQPAC1-GENE-COVs.txt -A databases/EQPAC1-ENV-DETECTION.txt --title \"Prochlorococcus EQPAC1 genes across TARA Oceans Project metagenomes\" --server-only\n",
    "anvi-interactive -p databases/Prochlorococcus-MERGED/PROFILE.db -c databases/Prochlorococcus-CONTIGS.db -C Genomes --gene-mode -b MIT9314 -d databases/MIT9314-GENE-COVs.txt -A databases/MIT9314-ENV-DETECTION.txt --title \"Prochlorococcus MIT9314 genes across TARA Oceans Project metagenomes\" --server-only\n",
    "\n",
    "#visualize Figure 4 B and C for NATL2A:\n",
    "#Repeat for each genome of interest\n",
    "anvi-interactive -p databases/Prochlorococcus-MERGED/PROFILE.db -c databases/Prochlorococcus-CONTIGS.db -C Genomes --gene-mode -b NATL2A --server-only\n"
   ]
  }
 ],
 "metadata": {
  "kernelspec": {
   "display_name": "Python 3",
   "language": "python",
   "name": "python3"
  },
  "language_info": {
   "codemirror_mode": {
    "name": "ipython",
    "version": 3
   },
   "file_extension": ".py",
   "mimetype": "text/x-python",
   "name": "python",
   "nbconvert_exporter": "python",
   "pygments_lexer": "ipython3",
   "version": "3.7.1"
  }
 },
 "nbformat": 4,
 "nbformat_minor": 2
}
